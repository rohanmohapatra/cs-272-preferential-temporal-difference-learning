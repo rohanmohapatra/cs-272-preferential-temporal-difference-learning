{
 "cells": [
  {
   "cell_type": "code",
   "execution_count": 1,
   "metadata": {},
   "outputs": [],
   "source": [
    "from tabular_agent import *\n",
    "import numpy as np\n",
    "import random\n",
    "\n",
    "random.seed(200)\n",
    "\n",
    "params = np.arange(0, 1, 0.2).tolist()"
   ]
  },
  {
   "cell_type": "code",
   "execution_count": 2,
   "metadata": {},
   "outputs": [],
   "source": [
    "sarsa_returns = []\n",
    "sarsalambda_returns = []\n",
    "ptd_returns = []\n",
    "for each in params:\n",
    "    environment = gym.make('CliffWalking-v0')\n",
    "    sarsa_agent = SARSAAgent(environment)\n",
    "    sarsa_agent.learn()\n",
    "    episode, done = sarsa_agent.best_run()\n",
    "    sarsa_returns.append(sarsa_agent.calc_return(episode, done))\n",
    "\n",
    "\n",
    "    environment = gym.make('CliffWalking-v0')\n",
    "    sarsa_lambda_agent = SARSALambdaAgent(environment, each)\n",
    "    sarsa_lambda_agent.learn()\n",
    "    episode, done = sarsa_lambda_agent.best_run()\n",
    "    sarsalambda_returns.append(sarsa_lambda_agent.calc_return(episode, done))\n",
    "\n",
    "\n",
    "    environment = gym.make('CliffWalking-v0')\n",
    "    ptd_agent = PTDAgent(environment, each)\n",
    "    ptd_agent.learn()\n",
    "    episode, done = ptd_agent.best_run()\n",
    "    ptd_returns.append(ptd_agent.calc_return(episode, done))\n",
    "    print(\"------------------------------\")\n"
   ]
  },
  {
   "cell_type": "code",
   "execution_count": null,
   "metadata": {},
   "outputs": [],
   "source": [
    "import matplotlib.pyplot as plt\n",
    "\n",
    "plt.plot(sarsa_returns, params, label=\"SARSA\")\n",
    "plt.plot(sarsalambda_returns, params, label=\"SARSA Lambba\")\n",
    "plt.plot(ptd_returns, params, label=\"PTD\")\n",
    "plt.legend()\n",
    "plt.show()"
   ]
  }
 ],
 "metadata": {
  "kernelspec": {
   "display_name": "Python 3.10.6 ('rlenv')",
   "language": "python",
   "name": "python3"
  },
  "language_info": {
   "codemirror_mode": {
    "name": "ipython",
    "version": 3
   },
   "file_extension": ".py",
   "mimetype": "text/x-python",
   "name": "python",
   "nbconvert_exporter": "python",
   "pygments_lexer": "ipython3",
   "version": "3.10.6"
  },
  "orig_nbformat": 4,
  "vscode": {
   "interpreter": {
    "hash": "23c0e36e0f4b04a8671f1e036f5fc6a6362d5efa98ca4533933d8363c8613cc3"
   }
  }
 },
 "nbformat": 4,
 "nbformat_minor": 2
}
